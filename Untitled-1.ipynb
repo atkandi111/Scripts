{
 "cells": [
  {
   "cell_type": "code",
   "execution_count": 20,
   "metadata": {},
   "outputs": [
    {
     "name": "stdout",
     "output_type": "stream",
     "text": [
      "0 1 2 3 4 5 6 7 8 9 10 11 12 13 14 15\n",
      "0 0 0 0 1 1 1 1 2 2 2 2 3 3 3 3\n",
      "0 1 8 9 0 1 8 9 0 1 8 9 0 1 8 9\n",
      "\n",
      "0 1 2 3 4 5 6 7 8 9 10 11 12 13 14 15\n",
      "0 0 0 0 1 1 1 1 2 2 2 2 3 3 3 3\n",
      "2 3 10 11 2 3 10 11 2 3 10 11 2 3 10 11\n",
      "\n",
      "0 1 2 3 4 5 6 7 8 9 10 11 12 13 14 15\n",
      "0 0 0 0 1 1 1 1 2 2 2 2 3 3 3 3\n",
      "4 5 12 13 4 5 12 13 4 5 12 13 4 5 12 13\n",
      "\n",
      "0 1 2 3 4 5 6 7 8 9 10 11 12 13 14 15\n",
      "0 0 0 0 1 1 1 1 2 2 2 2 3 3 3 3\n",
      "6 7 14 15 6 7 14 15 6 7 14 15 6 7 14 15\n",
      "\n"
     ]
    }
   ],
   "source": [
    "normIndex = [[], [], [], []]\n",
    "quadIndex = [[], [], [], []]\n",
    "tileIndex = [[], [], [], []]\n",
    "for i in range(4):\n",
    "    for j in range(16):\n",
    "        normIndex[i].append(j)\n",
    "        quadIndex[i].append(j // 4)\n",
    "        tileIndex[i].append((2 * i) + (j % 2) + ((j % 4) // 2) * 8)\n",
    "    print(*normIndex[i])\n",
    "    print(*quadIndex[i])\n",
    "    print(*tileIndex[i])\n",
    "    print()\n",
    "\n",
    "    #%2 + (/2) * 8\n",
    "\n",
    "    #0 1 2 3 4 5 6 7\n",
    "    #0 1 2 3 0 1 2 3\n",
    "# %2 0 1 0 1 0 1 0 1\n",
    "# /2 0 0 1 1 0 0 1 1 \n"
   ]
  }
 ],
 "metadata": {
  "kernelspec": {
   "display_name": "Python 3",
   "language": "python",
   "name": "python3"
  },
  "language_info": {
   "codemirror_mode": {
    "name": "ipython",
    "version": 3
   },
   "file_extension": ".py",
   "mimetype": "text/x-python",
   "name": "python",
   "nbconvert_exporter": "python",
   "pygments_lexer": "ipython3",
   "version": "3.10.7"
  }
 },
 "nbformat": 4,
 "nbformat_minor": 2
}
